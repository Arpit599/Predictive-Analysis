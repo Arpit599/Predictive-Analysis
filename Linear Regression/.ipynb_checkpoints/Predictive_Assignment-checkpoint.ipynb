{
 "cells": [
  {
   "cell_type": "code",
   "execution_count": 1,
   "metadata": {},
   "outputs": [],
   "source": [
    "#---------------------------------------------Importing required libraries------------------------------------------------------"
   ]
  },
  {
   "cell_type": "code",
   "execution_count": 2,
   "metadata": {},
   "outputs": [],
   "source": [
    "import pandas as pd\n",
    "import numpy as np\n",
    "import matplotlib.pyplot as plt\n",
    "import seaborn as sns\n",
    "import warnings\n",
    "import sklearn.metrics as metrics\n",
    "import statsmodels.api as sm\n",
    "from sklearn.metrics import r2_score\n",
    "from sklearn.linear_model import LinearRegression\n",
    "from sklearn.linear_model import SGDRegressor\n",
    "from sklearn.metrics import mean_squared_error,mean_absolute_error\n",
    "from sklearn.preprocessing import StandardScaler\n",
    "from sklearn.model_selection import train_test_split\n",
    "\n",
    "%matplotlib inline\n",
    "warnings.simplefilter(action='ignore')\n",
    "plt.style.use('seaborn')"
   ]
  },
  {
   "cell_type": "code",
   "execution_count": 3,
   "metadata": {},
   "outputs": [],
   "source": [
    "#------------------------------------------Function to display regression metrics-----------------------------------------------"
   ]
  },
  {
   "cell_type": "code",
   "execution_count": 4,
   "metadata": {},
   "outputs": [],
   "source": [
    "def get_regression_metrics(y_true, y_pred):\n",
    "\n",
    "    r2 = metrics.r2_score(y_true, y_pred)\n",
    "    mae = metrics.mean_absolute_error(y_true, y_pred) \n",
    "    mse = metrics.mean_squared_error(y_true, y_pred) \n",
    "\n",
    "    print('R-squared:', round(r2, 4))\n",
    "    print('MAE:', round(mae, 4))\n",
    "    print('MSE:', round(mse, 4))\n",
    "    print('RMSE:', round(np.sqrt(mse), 4))\n",
    "    "
   ]
  },
  {
   "cell_type": "code",
   "execution_count": 5,
   "metadata": {},
   "outputs": [],
   "source": [
    "#----------------------------------------Function for training and getting regression metrics-----------------------------------"
   ]
  },
  {
   "cell_type": "code",
   "execution_count": 6,
   "metadata": {},
   "outputs": [],
   "source": [
    "def pred_model(model, X_train, X_test, y_train, y_test):\n",
    "    \n",
    "    # Training the model\n",
    "    model = model.fit(X_train, y_train)\n",
    "    \n",
    "    train_R2 = []\n",
    "    test_R2 = []\n",
    "            \n",
    "    # Getting R2-score of training set\n",
    "    y_pred_train = model.predict(X_train)\n",
    "    R2_train_model = r2_score(y_train, y_pred_train)\n",
    "    train_R2.append(round(R2_train_model, 4))\n",
    "    \n",
    "    # Getting R2-score of testing set\n",
    "    y_pred_test = model.predict(X_test)\n",
    "    R2_test_model = r2_score(y_test, y_pred_test)\n",
    "    test_R2.append(round(R2_test_model, 4))\n",
    "    \n",
    "    # Printing R2-scores\n",
    "    print('R2-score of training set: ', round(R2_train_model, 4))\n",
    "    print('R2-score of testing set: ', round(R2_test_model, 4))\n",
    "    \n",
    "    # Plotting Graphs \n",
    "    \n",
    "    # Plotting Residual Plot of training data\n",
    "    fig, ax = plt.subplots(1, 2, figsize = (10, 4))\n",
    "    ax[0].set_title('Residual Plot of Train samples')\n",
    "    sns.distplot((y_train-y_pred_train), hist = False, ax = ax[0])\n",
    "    ax[0].set_xlabel('y_train - y_pred_train')\n",
    "    ax[0].set_ylabel('Residuals')\n",
    "    \n",
    "    # Plotting graph of y_test vs y_train\n",
    "    ax[1].set_title('y_test vs y_pred_test')\n",
    "    ax[1].scatter(x = y_test, y = y_pred_test)\n",
    "    ax[1].set_xlabel('y_test')\n",
    "    ax[1].set_ylabel('y_pred_test')\n",
    "    \n",
    "    plt.show()\n",
    "    \n",
    "    # Calling function to show the regression metrics\n",
    "    get_regression_metrics(y_train, y_pred_train)\n"
   ]
  },
  {
   "cell_type": "code",
   "execution_count": 7,
   "metadata": {},
   "outputs": [],
   "source": [
    "# Reading dataset for model1 \n",
    "dataset_model1 = pd.read_csv(\"vehicle_data.csv\")"
   ]
  },
  {
   "cell_type": "code",
   "execution_count": 8,
   "metadata": {},
   "outputs": [
    {
     "data": {
      "text/plain": [
       "(301, 9)"
      ]
     },
     "execution_count": 8,
     "metadata": {},
     "output_type": "execute_result"
    }
   ],
   "source": [
    "# Display the current dimension of the dataset_model1\n",
    "dataset_model1.shape"
   ]
  },
  {
   "cell_type": "code",
   "execution_count": 9,
   "metadata": {},
   "outputs": [
    {
     "data": {
      "text/html": [
       "<div>\n",
       "<style scoped>\n",
       "    .dataframe tbody tr th:only-of-type {\n",
       "        vertical-align: middle;\n",
       "    }\n",
       "\n",
       "    .dataframe tbody tr th {\n",
       "        vertical-align: top;\n",
       "    }\n",
       "\n",
       "    .dataframe thead th {\n",
       "        text-align: right;\n",
       "    }\n",
       "</style>\n",
       "<table border=\"1\" class=\"dataframe\">\n",
       "  <thead>\n",
       "    <tr style=\"text-align: right;\">\n",
       "      <th></th>\n",
       "      <th>Year</th>\n",
       "      <th>Selling_Price</th>\n",
       "      <th>Present_Price</th>\n",
       "      <th>Kms_Driven</th>\n",
       "      <th>Owner</th>\n",
       "    </tr>\n",
       "  </thead>\n",
       "  <tbody>\n",
       "    <tr>\n",
       "      <th>count</th>\n",
       "      <td>301.000000</td>\n",
       "      <td>301.000000</td>\n",
       "      <td>301.000000</td>\n",
       "      <td>301.000000</td>\n",
       "      <td>301.000000</td>\n",
       "    </tr>\n",
       "    <tr>\n",
       "      <th>mean</th>\n",
       "      <td>2013.627907</td>\n",
       "      <td>4.661296</td>\n",
       "      <td>7.628472</td>\n",
       "      <td>36947.205980</td>\n",
       "      <td>0.043189</td>\n",
       "    </tr>\n",
       "    <tr>\n",
       "      <th>std</th>\n",
       "      <td>2.891554</td>\n",
       "      <td>5.082812</td>\n",
       "      <td>8.644115</td>\n",
       "      <td>38886.883882</td>\n",
       "      <td>0.247915</td>\n",
       "    </tr>\n",
       "    <tr>\n",
       "      <th>min</th>\n",
       "      <td>2003.000000</td>\n",
       "      <td>0.100000</td>\n",
       "      <td>0.320000</td>\n",
       "      <td>500.000000</td>\n",
       "      <td>0.000000</td>\n",
       "    </tr>\n",
       "    <tr>\n",
       "      <th>25%</th>\n",
       "      <td>2012.000000</td>\n",
       "      <td>0.900000</td>\n",
       "      <td>1.200000</td>\n",
       "      <td>15000.000000</td>\n",
       "      <td>0.000000</td>\n",
       "    </tr>\n",
       "    <tr>\n",
       "      <th>50%</th>\n",
       "      <td>2014.000000</td>\n",
       "      <td>3.600000</td>\n",
       "      <td>6.400000</td>\n",
       "      <td>32000.000000</td>\n",
       "      <td>0.000000</td>\n",
       "    </tr>\n",
       "    <tr>\n",
       "      <th>75%</th>\n",
       "      <td>2016.000000</td>\n",
       "      <td>6.000000</td>\n",
       "      <td>9.900000</td>\n",
       "      <td>48767.000000</td>\n",
       "      <td>0.000000</td>\n",
       "    </tr>\n",
       "    <tr>\n",
       "      <th>max</th>\n",
       "      <td>2018.000000</td>\n",
       "      <td>35.000000</td>\n",
       "      <td>92.600000</td>\n",
       "      <td>500000.000000</td>\n",
       "      <td>3.000000</td>\n",
       "    </tr>\n",
       "  </tbody>\n",
       "</table>\n",
       "</div>"
      ],
      "text/plain": [
       "              Year  Selling_Price  Present_Price     Kms_Driven       Owner\n",
       "count   301.000000     301.000000     301.000000     301.000000  301.000000\n",
       "mean   2013.627907       4.661296       7.628472   36947.205980    0.043189\n",
       "std       2.891554       5.082812       8.644115   38886.883882    0.247915\n",
       "min    2003.000000       0.100000       0.320000     500.000000    0.000000\n",
       "25%    2012.000000       0.900000       1.200000   15000.000000    0.000000\n",
       "50%    2014.000000       3.600000       6.400000   32000.000000    0.000000\n",
       "75%    2016.000000       6.000000       9.900000   48767.000000    0.000000\n",
       "max    2018.000000      35.000000      92.600000  500000.000000    3.000000"
      ]
     },
     "execution_count": 9,
     "metadata": {},
     "output_type": "execute_result"
    }
   ],
   "source": [
    "# To know about basic statistical metrics\n",
    "dataset_model1.describe()"
   ]
  },
  {
   "cell_type": "code",
   "execution_count": 10,
   "metadata": {},
   "outputs": [
    {
     "data": {
      "text/plain": [
       "Car_Name         301\n",
       "Year             301\n",
       "Selling_Price    301\n",
       "Present_Price    301\n",
       "Kms_Driven       301\n",
       "Fuel_Type        301\n",
       "Seller_Type      301\n",
       "Transmission     301\n",
       "Owner            301\n",
       "dtype: int64"
      ]
     },
     "execution_count": 10,
     "metadata": {},
     "output_type": "execute_result"
    }
   ],
   "source": [
    "# To check if there are any missing values in our dataset\n",
    "dataset_model1.isna().count()"
   ]
  },
  {
   "cell_type": "code",
   "execution_count": 11,
   "metadata": {},
   "outputs": [],
   "source": [
    "# Adding new column or variable 'Vehicle_Age' in our dataset which is the age of the vehicle\n",
    "dataset_model1['Vehicle_Age'] = 2021 - dataset_model1['Year']\n",
    "\n",
    "# As we have added 'Vehicle_Age', we have to drop 'Year' variable from our dataset\n",
    "dataset_model1.drop('Year', axis = 1, inplace = True)\n",
    "\n",
    "# Renaming columns in our dataset for better interpretation of the dataset\n",
    "dataset_model1.rename(columns = {'Selling_Price':'Selling_Price(lacs)', 'Present_Price':'Present_Price(lacs)', 'Owner':'Num_PrevOwners'}, inplace = True)"
   ]
  },
  {
   "cell_type": "code",
   "execution_count": 12,
   "metadata": {},
   "outputs": [
    {
     "data": {
      "image/png": "[encoded data removed]",
      "text/plain": [
       "<Figure size 720x288 with 2 Axes>"
      ]
     },
     "metadata": {},
     "output_type": "display_data"
    },
    {
     "data": {
      "image/png": "[encoded data removed]",
      "text/plain": [
       "<Figure size 720x288 with 2 Axes>"
      ]
     },
     "metadata": {},
     "output_type": "display_data"
    }
   ],
   "source": [
    "# Plotting histograms for all the available categorical variables to get a tentaive idea about their count in the dataset\n",
    "\n",
    "categorical_columns = ['Fuel_Type', 'Seller_Type', 'Transmission', 'Num_PrevOwners']\n",
    "\n",
    "i = 0\n",
    "while i < 4:\n",
    "    fig = plt.figure(figsize = [10, 4])\n",
    "\n",
    "    plt.subplot(1,2,1)\n",
    "    sns.countplot(x = categorical_columns[i], data = dataset_model1)\n",
    "    i += 1\n",
    "    \n",
    "    plt.subplot(1,2,2)\n",
    "    sns.countplot(x = categorical_columns[i], data = dataset_model1)\n",
    "    i += 1\n",
    "    \n",
    "    plt.show()"
   ]
  },
  {
   "cell_type": "code",
   "execution_count": 13,
   "metadata": {},
   "outputs": [],
   "source": [
    "# Dropping 'Car_Name' because it doesn't add any value, we drop other categorical variables for Model-1 implementation\n",
    "dataset_model1.drop(['Car_Name', 'Fuel_Type', 'Seller_Type', 'Transmission'], axis = 1, inplace = True)"
   ]
  },
  {
   "cell_type": "code",
   "execution_count": 14,
   "metadata": {},
   "outputs": [],
   "source": [
    "# Separating dependent variable and its features\n",
    "y1 = dataset_model1['Selling_Price(lacs)']\n",
    "\n",
    "# Dropping 'Selling_Price(lacs) as it has to be predicted'\n",
    "X1 = dataset_model1.drop('Selling_Price(lacs)', axis = 1)\n",
    "\n",
    "# Performing the splitting of data into X1_train, X1_test, y1_train, y1_test\n",
    "X1_train, X1_test, y1_train, y1_test = train_test_split(X1, y1, test_size = 0.2, random_state = 42)"
   ]
  },
  {
   "cell_type": "code",
   "execution_count": 15,
   "metadata": {},
   "outputs": [
    {
     "name": "stdout",
     "output_type": "stream",
     "text": [
      "R2-score of training set:  0.8579\n",
      "R2-score of testing set:  0.821\n"
     ]
    },
    {
     "data": {
      "image/png": "[encoded data removed]",
      "text/plain": [
       "<Figure size 720x288 with 2 Axes>"
      ]
     },
     "metadata": {},
     "output_type": "display_data"
    },
    {
     "name": "stdout",
     "output_type": "stream",
     "text": [
      "R-squared: 0.8579\n",
      "MAE: 1.2353\n",
      "MSE: 3.7566\n",
      "RMSE: 1.9382\n"
     ]
    }
   ],
   "source": [
    "# Making an object from class LinearRegression\n",
    "lm1 = LinearRegression()\n",
    "\n",
    "# Calling function for training and metrics evaluation\n",
    "pred_model(lm1, X1_train, X1_test, y1_train, y1_test)"
   ]
  },
  {
   "cell_type": "code",
   "execution_count": 16,
   "metadata": {},
   "outputs": [],
   "source": [
    "#-------------------------------------------------Using OLS on Model1-----------------------------------------------------------"
   ]
  },
  {
   "cell_type": "code",
   "execution_count": 17,
   "metadata": {},
   "outputs": [],
   "source": [
    "# Appending column of all one for the constant intercept 'b0' in the Linear Regression Equation => y = b0 + b1*x1 + b2*x2 + ....\n",
    "X1 = np.append(arr = np.ones((301, 1)).astype(int), values = X1, axis = 1)"
   ]
  },
  {
   "cell_type": "code",
   "execution_count": 18,
   "metadata": {},
   "outputs": [
    {
     "name": "stdout",
     "output_type": "stream",
     "text": [
      "                             OLS Regression Results                            \n",
      "===============================================================================\n",
      "Dep. Variable:     Selling_Price(lacs)   R-squared:                       0.852\n",
      "Model:                             OLS   Adj. R-squared:                  0.850\n",
      "Method:                  Least Squares   F-statistic:                     426.6\n",
      "Date:                 Thu, 11 Mar 2021   Prob (F-statistic):          1.66e-121\n",
      "Time:                         05:54:45   Log-Likelihood:                -628.25\n",
      "No. Observations:                  301   AIC:                             1267.\n",
      "Df Residuals:                      296   BIC:                             1285.\n",
      "Df Model:                            4                                         \n",
      "Covariance Type:             nonrobust                                         \n",
      "==============================================================================\n",
      "                 coef    std err          t      P>|t|      [0.025      0.975]\n",
      "------------------------------------------------------------------------------\n",
      "const          4.1753      0.332     12.563      0.000       3.521       4.829\n",
      "x1             0.5256      0.013     39.067      0.000       0.499       0.552\n",
      "x2         -1.267e-06   3.51e-06     -0.361      0.718   -8.17e-06    5.64e-06\n",
      "x3            -0.9513      0.466     -2.042      0.042      -1.868      -0.034\n",
      "x4            -0.4661      0.047     -9.949      0.000      -0.558      -0.374\n",
      "==============================================================================\n",
      "Omnibus:                       69.450   Durbin-Watson:                   1.560\n",
      "Prob(Omnibus):                  0.000   Jarque-Bera (JB):             1362.873\n",
      "Skew:                           0.241   Prob(JB):                    1.14e-296\n",
      "Kurtosis:                      13.413   Cond. No.                     2.21e+05\n",
      "==============================================================================\n",
      "\n",
      "Notes:\n",
      "[1] Standard Errors assume that the covariance matrix of the errors is correctly specified.\n",
      "[2] The condition number is large, 2.21e+05. This might indicate that there are\n",
      "strong multicollinearity or other numerical problems.\n"
     ]
    }
   ],
   "source": [
    "# At first we are using all the columns of X1 in X1_opt\n",
    "X1_opt = X1[:, [0,1,2,3,4]]\n",
    "X1_opt = np.array(X1_opt, dtype = float)\n",
    "\n",
    "# Fitting the model\n",
    "regressor_OLS = sm.OLS(y1, X1_opt).fit()\n",
    "\n",
    "# Print the regression metrics\n",
    "print(regressor_OLS.summary())"
   ]
  },
  {
   "cell_type": "code",
   "execution_count": 19,
   "metadata": {
    "scrolled": true
   },
   "outputs": [
    {
     "name": "stdout",
     "output_type": "stream",
     "text": [
      "                             OLS Regression Results                            \n",
      "===============================================================================\n",
      "Dep. Variable:     Selling_Price(lacs)   R-squared:                       0.852\n",
      "Model:                             OLS   Adj. R-squared:                  0.851\n",
      "Method:                  Least Squares   F-statistic:                     570.5\n",
      "Date:                 Thu, 11 Mar 2021   Prob (F-statistic):          6.81e-123\n",
      "Time:                         05:54:45   Log-Likelihood:                -628.32\n",
      "No. Observations:                  301   AIC:                             1265.\n",
      "Df Residuals:                      297   BIC:                             1279.\n",
      "Df Model:                            3                                         \n",
      "Covariance Type:             nonrobust                                         \n",
      "==============================================================================\n",
      "                 coef    std err          t      P>|t|      [0.025      0.975]\n",
      "------------------------------------------------------------------------------\n",
      "const          4.2011      0.324     12.964      0.000       3.563       4.839\n",
      "x1             0.5246      0.013     39.940      0.000       0.499       0.550\n",
      "x2            -0.9500      0.465     -2.042      0.042      -1.866      -0.034\n",
      "x3            -0.4749      0.040    -11.892      0.000      -0.553      -0.396\n",
      "==============================================================================\n",
      "Omnibus:                       69.796   Durbin-Watson:                   1.562\n",
      "Prob(Omnibus):                  0.000   Jarque-Bera (JB):             1347.607\n",
      "Skew:                           0.263   Prob(JB):                    2.35e-293\n",
      "Kurtosis:                      13.352   Cond. No.                         53.1\n",
      "==============================================================================\n",
      "\n",
      "Notes:\n",
      "[1] Standard Errors assume that the covariance matrix of the errors is correctly specified.\n"
     ]
    }
   ],
   "source": [
    "# We are taking significance value = 0.05, any variable with P-value >= 0.05 will be dropped in consecutive steps\n",
    "# We dropped 3rd column from the original X1 as its P-value is 0.718 > 0.05\n",
    "X1_opt = X1[:, [0,1,3,4]]\n",
    "X1_opt = np.array(X1_opt, dtype=float)\n",
    "\n",
    "# Fitting the model\n",
    "regressor_OLS = sm.OLS(y1, X1_opt).fit()\n",
    "\n",
    "# Print the regression metrics\n",
    "print(regressor_OLS.summary())"
   ]
  },
  {
   "cell_type": "code",
   "execution_count": 20,
   "metadata": {
    "scrolled": true
   },
   "outputs": [],
   "source": [
    "# Reading dataset for model2\n",
    "dataset_model2 = pd.read_csv(\"vehicle_data.csv\")"
   ]
  },
  {
   "cell_type": "code",
   "execution_count": 21,
   "metadata": {},
   "outputs": [
    {
     "data": {
      "text/plain": [
       "(301, 9)"
      ]
     },
     "execution_count": 21,
     "metadata": {},
     "output_type": "execute_result"
    }
   ],
   "source": [
    "# Display the current dimension of the dataset_model2\n",
    "dataset_model2.shape"
   ]
  },
  {
   "cell_type": "code",
   "execution_count": 22,
   "metadata": {},
   "outputs": [
    {
     "data": {
      "text/html": [
       "<div>\n",
       "<style scoped>\n",
       "    .dataframe tbody tr th:only-of-type {\n",
       "        vertical-align: middle;\n",
       "    }\n",
       "\n",
       "    .dataframe tbody tr th {\n",
       "        vertical-align: top;\n",
       "    }\n",
       "\n",
       "    .dataframe thead th {\n",
       "        text-align: right;\n",
       "    }\n",
       "</style>\n",
       "<table border=\"1\" class=\"dataframe\">\n",
       "  <thead>\n",
       "    <tr style=\"text-align: right;\">\n",
       "      <th></th>\n",
       "      <th>Year</th>\n",
       "      <th>Selling_Price</th>\n",
       "      <th>Present_Price</th>\n",
       "      <th>Kms_Driven</th>\n",
       "      <th>Owner</th>\n",
       "    </tr>\n",
       "  </thead>\n",
       "  <tbody>\n",
       "    <tr>\n",
       "      <th>count</th>\n",
       "      <td>301.000000</td>\n",
       "      <td>301.000000</td>\n",
       "      <td>301.000000</td>\n",
       "      <td>301.000000</td>\n",
       "      <td>301.000000</td>\n",
       "    </tr>\n",
       "    <tr>\n",
       "      <th>mean</th>\n",
       "      <td>2013.627907</td>\n",
       "      <td>4.661296</td>\n",
       "      <td>7.628472</td>\n",
       "      <td>36947.205980</td>\n",
       "      <td>0.043189</td>\n",
       "    </tr>\n",
       "    <tr>\n",
       "      <th>std</th>\n",
       "      <td>2.891554</td>\n",
       "      <td>5.082812</td>\n",
       "      <td>8.644115</td>\n",
       "      <td>38886.883882</td>\n",
       "      <td>0.247915</td>\n",
       "    </tr>\n",
       "    <tr>\n",
       "      <th>min</th>\n",
       "      <td>2003.000000</td>\n",
       "      <td>0.100000</td>\n",
       "      <td>0.320000</td>\n",
       "      <td>500.000000</td>\n",
       "      <td>0.000000</td>\n",
       "    </tr>\n",
       "    <tr>\n",
       "      <th>25%</th>\n",
       "      <td>2012.000000</td>\n",
       "      <td>0.900000</td>\n",
       "      <td>1.200000</td>\n",
       "      <td>15000.000000</td>\n",
       "      <td>0.000000</td>\n",
       "    </tr>\n",
       "    <tr>\n",
       "      <th>50%</th>\n",
       "      <td>2014.000000</td>\n",
       "      <td>3.600000</td>\n",
       "      <td>6.400000</td>\n",
       "      <td>32000.000000</td>\n",
       "      <td>0.000000</td>\n",
       "    </tr>\n",
       "    <tr>\n",
       "      <th>75%</th>\n",
       "      <td>2016.000000</td>\n",
       "      <td>6.000000</td>\n",
       "      <td>9.900000</td>\n",
       "      <td>48767.000000</td>\n",
       "      <td>0.000000</td>\n",
       "    </tr>\n",
       "    <tr>\n",
       "      <th>max</th>\n",
       "      <td>2018.000000</td>\n",
       "      <td>35.000000</td>\n",
       "      <td>92.600000</td>\n",
       "      <td>500000.000000</td>\n",
       "      <td>3.000000</td>\n",
       "    </tr>\n",
       "  </tbody>\n",
       "</table>\n",
       "</div>"
      ],
      "text/plain": [
       "              Year  Selling_Price  Present_Price     Kms_Driven       Owner\n",
       "count   301.000000     301.000000     301.000000     301.000000  301.000000\n",
       "mean   2013.627907       4.661296       7.628472   36947.205980    0.043189\n",
       "std       2.891554       5.082812       8.644115   38886.883882    0.247915\n",
       "min    2003.000000       0.100000       0.320000     500.000000    0.000000\n",
       "25%    2012.000000       0.900000       1.200000   15000.000000    0.000000\n",
       "50%    2014.000000       3.600000       6.400000   32000.000000    0.000000\n",
       "75%    2016.000000       6.000000       9.900000   48767.000000    0.000000\n",
       "max    2018.000000      35.000000      92.600000  500000.000000    3.000000"
      ]
     },
     "execution_count": 22,
     "metadata": {},
     "output_type": "execute_result"
    }
   ],
   "source": [
    "# To know about basic statistical metrics\n",
    "dataset_model2.describe()"
   ]
  },
  {
   "cell_type": "code",
   "execution_count": 23,
   "metadata": {},
   "outputs": [],
   "source": [
    "# Adding new column or variable 'Vehicle_Age' in our dataset which is the age of the vehicle\n",
    "dataset_model2['Vehicle_Age'] = 2021 - dataset_model2['Year']\n",
    "\n",
    "# As we have added 'Vehicle_Age', we have to drop 'Year' variable from our dataset\n",
    "dataset_model2.drop('Year', axis = 1, inplace = True)\n",
    "\n",
    "# Renaming columns in our dataset for better interpretation of the dataset\n",
    "dataset_model2.rename(columns = {'Selling_Price':'Selling_Price(lacs)','Present_Price':'Present_Price(lacs)','Owner':'Num_PrevOwners'},inplace = True)"
   ]
  },
  {
   "cell_type": "code",
   "execution_count": 24,
   "metadata": {},
   "outputs": [
    {
     "data": {
      "image/png": "[encoded data removed]",
      "text/plain": [
       "<Figure size 720x288 with 2 Axes>"
      ]
     },
     "metadata": {},
     "output_type": "display_data"
    },
    {
     "data": {
      "image/png": "[encoded data removed]",
      "text/plain": [
       "<Figure size 720x288 with 2 Axes>"
      ]
     },
     "metadata": {},
     "output_type": "display_data"
    }
   ],
   "source": [
    "# Plotting histograms for all the available categorical variables to get a tentaive idea about their count in the dataset\n",
    "\n",
    "categorical_columns = ['Fuel_Type', 'Seller_Type', 'Transmission', 'Num_PrevOwners']\n",
    "\n",
    "i = 0\n",
    "while i < 4:\n",
    "    fig = plt.figure(figsize = [10, 4])\n",
    "\n",
    "    plt.subplot(1,2,1)\n",
    "    sns.countplot(x = categorical_columns[i], data = dataset_model2)\n",
    "    i += 1\n",
    "    \n",
    "    plt.subplot(1,2,2)\n",
    "    sns.countplot(x = categorical_columns[i], data = dataset_model2)\n",
    "    i += 1\n",
    "    \n",
    "    plt.show()"
   ]
  },
  {
   "cell_type": "code",
   "execution_count": 25,
   "metadata": {},
   "outputs": [],
   "source": [
    "# Dropping 'Car_Name' because it doesn't add any value\n",
    "dataset_model2.drop(labels='Car_Name', axis =  1, inplace = True)\n",
    "\n",
    "# Using Dummy Encoding for cateogrical variables\n",
    "dataset_model2 = pd.get_dummies(data = dataset_model2, drop_first = True) "
   ]
  },
  {
   "cell_type": "code",
   "execution_count": 26,
   "metadata": {},
   "outputs": [],
   "source": [
    "# Separating target variable and its features\n",
    "y2 = dataset_model2['Selling_Price(lacs)']\n",
    "\n",
    "# Dropping 'Selling_Price(lacs) as it has to be predicted'\n",
    "X2 = dataset_model2.drop('Selling_Price(lacs)', axis = 1)\n",
    "\n",
    "# Performing the splitting of data into X2_train, X2_test, y2_train, y2_test\n",
    "X2_train, X2_test, y2_train, y2_test = train_test_split(X2, y2, test_size = 0.2, random_state = 1)"
   ]
  },
  {
   "cell_type": "code",
   "execution_count": 27,
   "metadata": {},
   "outputs": [
    {
     "name": "stdout",
     "output_type": "stream",
     "text": [
      "R2-score of training set:  0.8823\n",
      "R2-score of testing set:  0.8625\n"
     ]
    },
    {
     "data": {
      "image/png": "[encoded data removed]",
      "text/plain": [
       "<Figure size 720x288 with 2 Axes>"
      ]
     },
     "metadata": {},
     "output_type": "display_data"
    },
    {
     "name": "stdout",
     "output_type": "stream",
     "text": [
      "R-squared: 0.8823\n",
      "MAE: 1.2072\n",
      "MSE: 3.1519\n",
      "RMSE: 1.7754\n"
     ]
    }
   ],
   "source": [
    "# Making an object from class LinearRegression\n",
    "lm2 = LinearRegression()\n",
    "\n",
    "# Calling function for training and metrics evaluation\n",
    "pred_model(lm2, X2_train, X2_test, y2_train, y2_test)"
   ]
  },
  {
   "cell_type": "code",
   "execution_count": 28,
   "metadata": {},
   "outputs": [],
   "source": [
    "#-------------------------------------------------Using OLS on Model2-----------------------------------------------------------"
   ]
  },
  {
   "cell_type": "code",
   "execution_count": 29,
   "metadata": {},
   "outputs": [],
   "source": [
    "# Appending column of all one for the constant intercept 'b0' in the Linear Regression Equation => y = b0 + b1*x1 + b2*x2 + ....\n",
    "X2 = np.append(arr = np.ones((301, 1)).astype(int), values = X2, axis = 1)"
   ]
  },
  {
   "cell_type": "code",
   "execution_count": 30,
   "metadata": {},
   "outputs": [
    {
     "name": "stdout",
     "output_type": "stream",
     "text": [
      "                             OLS Regression Results                            \n",
      "===============================================================================\n",
      "Dep. Variable:     Selling_Price(lacs)   R-squared:                       0.883\n",
      "Model:                             OLS   Adj. R-squared:                  0.879\n",
      "Method:                  Least Squares   F-statistic:                     274.3\n",
      "Date:                 Thu, 11 Mar 2021   Prob (F-statistic):          5.71e-131\n",
      "Time:                         05:54:46   Log-Likelihood:                -593.62\n",
      "No. Observations:                  301   AIC:                             1205.\n",
      "Df Residuals:                      292   BIC:                             1239.\n",
      "Df Model:                            8                                         \n",
      "Covariance Type:             nonrobust                                         \n",
      "==============================================================================\n",
      "                 coef    std err          t      P>|t|      [0.025      0.975]\n",
      "------------------------------------------------------------------------------\n",
      "const          5.1882      1.330      3.901      0.000       2.571       7.805\n",
      "x1             0.4372      0.016     27.355      0.000       0.406       0.469\n",
      "x2         -7.013e-06   3.23e-06     -2.172      0.031   -1.34e-05   -6.57e-07\n",
      "x3            -0.6742      0.423     -1.595      0.112      -1.506       0.158\n",
      "x4            -0.3931      0.043     -9.159      0.000      -0.478      -0.309\n",
      "x5             2.4699      1.278      1.932      0.054      -0.046       4.986\n",
      "x6             0.6077      1.259      0.483      0.630      -1.870       3.085\n",
      "x7            -1.1213      0.257     -4.371      0.000      -1.626      -0.616\n",
      "x8            -1.4482      0.328     -4.417      0.000      -2.093      -0.803\n",
      "==============================================================================\n",
      "Omnibus:                       95.107   Durbin-Watson:                   1.795\n",
      "Prob(Omnibus):                  0.000   Jarque-Bera (JB):              696.392\n",
      "Skew:                           1.075   Prob(JB):                    6.03e-152\n",
      "Kurtosis:                      10.135   Cond. No.                     1.15e+06\n",
      "==============================================================================\n",
      "\n",
      "Notes:\n",
      "[1] Standard Errors assume that the covariance matrix of the errors is correctly specified.\n",
      "[2] The condition number is large, 1.15e+06. This might indicate that there are\n",
      "strong multicollinearity or other numerical problems.\n"
     ]
    }
   ],
   "source": [
    "# At first we are using all the columns of X2 in X2_opt\n",
    "X2_opt = X2[:, [0,1,2,3,4,5,6,7,8]]\n",
    "X2_opt = np.array(X2_opt, dtype = float)\n",
    "\n",
    "# Fitting the model\n",
    "regressor_OLS = sm.OLS(y2, X2_opt).fit()\n",
    "\n",
    "# Print the regression metrics\n",
    "print(regressor_OLS.summary())"
   ]
  },
  {
   "cell_type": "code",
   "execution_count": 31,
   "metadata": {},
   "outputs": [
    {
     "name": "stdout",
     "output_type": "stream",
     "text": [
      "                             OLS Regression Results                            \n",
      "===============================================================================\n",
      "Dep. Variable:     Selling_Price(lacs)   R-squared:                       0.882\n",
      "Model:                             OLS   Adj. R-squared:                  0.880\n",
      "Method:                  Least Squares   F-statistic:                     314.3\n",
      "Date:                 Thu, 11 Mar 2021   Prob (F-statistic):          3.49e-132\n",
      "Time:                         05:54:46   Log-Likelihood:                -593.74\n",
      "No. Observations:                  301   AIC:                             1203.\n",
      "Df Residuals:                      293   BIC:                             1233.\n",
      "Df Model:                            7                                         \n",
      "Covariance Type:             nonrobust                                         \n",
      "==============================================================================\n",
      "                 coef    std err          t      P>|t|      [0.025      0.975]\n",
      "------------------------------------------------------------------------------\n",
      "const          5.7911      0.456     12.691      0.000       4.893       6.689\n",
      "x1             0.4373      0.016     27.405      0.000       0.406       0.469\n",
      "x2         -7.036e-06   3.22e-06     -2.182      0.030   -1.34e-05   -6.89e-07\n",
      "x3            -0.6726      0.422     -1.594      0.112      -1.503       0.158\n",
      "x4            -0.3933      0.043     -9.176      0.000      -0.478      -0.309\n",
      "x5             1.8699      0.298      6.273      0.000       1.283       2.457\n",
      "x6            -1.1116      0.255     -4.353      0.000      -1.614      -0.609\n",
      "x7            -1.4519      0.327     -4.435      0.000      -2.096      -0.808\n",
      "==============================================================================\n",
      "Omnibus:                       94.914   Durbin-Watson:                   1.792\n",
      "Prob(Omnibus):                  0.000   Jarque-Bera (JB):              691.148\n",
      "Skew:                           1.074   Prob(JB):                    8.30e-151\n",
      "Kurtosis:                      10.106   Cond. No.                     2.81e+05\n",
      "==============================================================================\n",
      "\n",
      "Notes:\n",
      "[1] Standard Errors assume that the covariance matrix of the errors is correctly specified.\n",
      "[2] The condition number is large, 2.81e+05. This might indicate that there are\n",
      "strong multicollinearity or other numerical problems.\n"
     ]
    }
   ],
   "source": [
    "# We are taking significance value = 0.05, any variable with P-value >= 0.05 will be dropped in consecutive steps\n",
    "# We dropped 7th column from the original X2 as its P-value is 0.630 > 0.05\n",
    "X2_opt = X2[:, [0,1,2,3,4,5,7,8]]\n",
    "X2_opt = np.array(X2_opt, dtype = float)\n",
    "\n",
    "# Fitting the model\n",
    "regressor_OLS = sm.OLS(y2, X2_opt).fit()\n",
    "\n",
    "# Print the regression metrics\n",
    "print(regressor_OLS.summary())"
   ]
  },
  {
   "cell_type": "code",
   "execution_count": 32,
   "metadata": {},
   "outputs": [
    {
     "name": "stdout",
     "output_type": "stream",
     "text": [
      "                             OLS Regression Results                            \n",
      "===============================================================================\n",
      "Dep. Variable:     Selling_Price(lacs)   R-squared:                       0.881\n",
      "Model:                             OLS   Adj. R-squared:                  0.879\n",
      "Method:                  Least Squares   F-statistic:                     364.4\n",
      "Date:                 Thu, 11 Mar 2021   Prob (F-statistic):          6.18e-133\n",
      "Time:                         05:54:46   Log-Likelihood:                -595.04\n",
      "No. Observations:                  301   AIC:                             1204.\n",
      "Df Residuals:                      294   BIC:                             1230.\n",
      "Df Model:                            6                                         \n",
      "Covariance Type:             nonrobust                                         \n",
      "==============================================================================\n",
      "                 coef    std err          t      P>|t|      [0.025      0.975]\n",
      "------------------------------------------------------------------------------\n",
      "const          5.8468      0.456     12.818      0.000       4.949       6.745\n",
      "x1             0.4358      0.016     27.287      0.000       0.404       0.467\n",
      "x2         -7.026e-06   3.23e-06     -2.173      0.031   -1.34e-05   -6.63e-07\n",
      "x3            -0.4032      0.043     -9.482      0.000      -0.487      -0.319\n",
      "x4             1.8827      0.299      6.302      0.000       1.295       2.471\n",
      "x5            -1.1635      0.254     -4.582      0.000      -1.663      -0.664\n",
      "x6            -1.4344      0.328     -4.373      0.000      -2.080      -0.789\n",
      "==============================================================================\n",
      "Omnibus:                       93.228   Durbin-Watson:                   1.782\n",
      "Prob(Omnibus):                  0.000   Jarque-Bera (JB):              692.402\n",
      "Skew:                           1.043   Prob(JB):                    4.43e-151\n",
      "Kurtosis:                      10.131   Cond. No.                     2.80e+05\n",
      "==============================================================================\n",
      "\n",
      "Notes:\n",
      "[1] Standard Errors assume that the covariance matrix of the errors is correctly specified.\n",
      "[2] The condition number is large, 2.8e+05. This might indicate that there are\n",
      "strong multicollinearity or other numerical problems.\n"
     ]
    }
   ],
   "source": [
    "# We are taking significance value = 0.05, any variable with P-value >= 0.05 will be dropped in consecutive steps\n",
    "# We dropped 4th column from the original X2 as its P-value is 0.112 > 0.05\n",
    "X2_opt = X2[:, [0,1,2,4,5,7,8]]\n",
    "X2_opt = np.array(X2_opt, dtype = float)\n",
    "\n",
    "# Fitting the model\n",
    "regressor_OLS = sm.OLS(y2, X2_opt).fit()\n",
    "\n",
    "# Print the regression model\n",
    "print(regressor_OLS.summary())"
   ]
  },
  {
   "cell_type": "code",
   "execution_count": 33,
   "metadata": {},
   "outputs": [],
   "source": [
    "#-----------------------------------------------Gradient Descent on Model1------------------------------------------------------"
   ]
  },
  {
   "cell_type": "code",
   "execution_count": 34,
   "metadata": {},
   "outputs": [],
   "source": [
    "# Making scaler object from class StandardScaler\n",
    "scaler = StandardScaler()\n",
    "\n",
    "# Fitting our scaler on X1_train \n",
    "scaler = scaler.fit(X1_train)\n",
    "\n",
    "# Standardizing the range of values\n",
    "X1_train = scaler.transform(X1_train)\n",
    "X1_test = scaler.transform(X1_test)"
   ]
  },
  {
   "cell_type": "code",
   "execution_count": 35,
   "metadata": {},
   "outputs": [
    {
     "data": {
      "image/png": "[encoded data removed]",
      "text/plain": [
       "<Figure size 576x396 with 1 Axes>"
      ]
     },
     "metadata": {},
     "output_type": "display_data"
    },
    {
     "name": "stdout",
     "output_type": "stream",
     "text": [
      "Value of Mean Squared Error : 4.1494\n",
      "Value of Mean Absolute Error : 1.4019\n"
     ]
    }
   ],
   "source": [
    "# Making sgd_regressor object from SGDRegressor class\n",
    "sgd_regressor = SGDRegressor()\n",
    "\n",
    "sgd_regressor.fit(X1_train, y1_train)\n",
    "\n",
    "plt.scatter(y1_test, sgd_regressor.predict(X1_test))\n",
    "plt.grid()\n",
    "plt.xlabel('y1_tes')\n",
    "plt.ylabel('y1_predicted')\n",
    "plt.title('scatter plot between actual y and predicted y')\n",
    "plt.show()\n",
    "\n",
    "# Print MSE and MAE \n",
    "print('Value of Mean Squared Error :', round(mean_squared_error(y1_test, sgd_regressor.predict(X1_test)), 4))\n",
    "print('Value of Mean Absolute Error :', round(mean_absolute_error(y1_test, sgd_regressor.predict(X1_test)), 4))\n"
   ]
  }
 ],
 "metadata": {
  "kernelspec": {
   "display_name": "Python 3",
   "language": "python",
   "name": "python3"
  },
  "language_info": {
   "codemirror_mode": {
    "name": "ipython",
    "version": 3
   },
   "file_extension": ".py",
   "mimetype": "text/x-python",
   "name": "python",
   "nbconvert_exporter": "python",
   "pygments_lexer": "ipython3",
   "version": "3.8.5"
  },
  "varInspector": {
   "cols": {
    "lenName": 16,
    "lenType": 16,
    "lenVar": 40
   },
   "kernels_config": {
    "python": {
     "delete_cmd_postfix": "",
     "delete_cmd_prefix": "del ",
     "library": "var_list.py",
     "varRefreshCmd": "print(var_dic_list())"
    },
    "r": {
     "delete_cmd_postfix": ") ",
     "delete_cmd_prefix": "rm(",
     "library": "var_list.r",
     "varRefreshCmd": "cat(var_dic_list()) "
    }
   },
   "oldHeight": 335.4,
   "position": {
    "height": "357.4px",
    "left": "910px",
    "right": "20px",
    "top": "-21px",
    "width": "605px"
   },
   "types_to_exclude": [
    "module",
    "function",
    "builtin_function_or_method",
    "instance",
    "_Feature"
   ],
   "varInspector_section_display": "block",
   "window_display": false
  }
 },
 "nbformat": 4,
 "nbformat_minor": 4
}
